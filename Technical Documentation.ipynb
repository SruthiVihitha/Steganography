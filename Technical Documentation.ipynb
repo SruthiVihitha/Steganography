{
  "nbformat": 4,
  "nbformat_minor": 0,
  "metadata": {
    "colab": {
      "provenance": [],
      "authorship_tag": "ABX9TyPoSP53u1Wq3PtfZQxVPvsP",
      "include_colab_link": true
    },
    "kernelspec": {
      "name": "python3",
      "display_name": "Python 3"
    },
    "language_info": {
      "name": "python"
    }
  },
  "cells": [
    {
      "cell_type": "markdown",
      "metadata": {
        "id": "view-in-github",
        "colab_type": "text"
      },
      "source": [
        "<a href=\"https://colab.research.google.com/github/SruthiVihitha/Steganography/blob/main/Technical%20Documentation.ipynb\" target=\"_parent\"><img src=\"https://colab.research.google.com/assets/colab-badge.svg\" alt=\"Open In Colab\"/></a>"
      ]
    },
    {
      "cell_type": "markdown",
      "source": [
        "# **Steganography Appilcation**\n",
        "**Technical Documentation for Steganography Application**\n",
        "\n",
        "This technical documentation provides a detailed explanation of the Steganography application, including its functionality, components, and implementation details.\n",
        "\n",
        "**System Requirements:**\n",
        "\n",
        "*   Python 3.x\n",
        "*   Tkinter library\n",
        "*   PIL (Pillow) library\n",
        "*   OpenCV library\n",
        "\n",
        "\n",
        "**Installation:**\n",
        "\n",
        "*   Ensure Python 3.x is installed on your system.\n",
        "*   Install the required libraries using pip\n",
        "\n"
      ],
      "metadata": {
        "id": "afwrYz8UyBBR"
      }
    },
    {
      "cell_type": "code",
      "execution_count": null,
      "metadata": {
        "id": "sKKkE8xDx4dW"
      },
      "outputs": [],
      "source": [
        "pip install tkinter pillow opencv-python\n"
      ]
    },
    {
      "cell_type": "markdown",
      "source": [
        "# **Code Structure**\n",
        "The application is structured into the following key sections:\n",
        "\n",
        "\n",
        "*   Imports and Global Variables\n",
        "*   Helper Functions\n",
        "*   Main GUI Setup\n",
        "*   Event Handlers\n",
        "*   Encoding and Decoding Functions\n",
        "*   Application Execution\n",
        "\n",
        "# **Imports and Global Variables:**\n",
        "\n",
        "\n",
        "The code starts by importing necessary modules and defining global variables used throughout the application."
      ],
      "metadata": {
        "id": "kE8pfirRyABi"
      }
    },
    {
      "cell_type": "code",
      "source": [
        "from tkinter import *\n",
        "from tkinter import filedialog\n",
        "import tkinter as tk\n",
        "from PIL import Image, ImageTk\n",
        "import os\n",
        "import cv2\n",
        "import hashlib\n",
        "\n",
        "root = tk.Tk()\n",
        "root.title(\"Steganography - Hide a Secret Text Message in an Image\")\n",
        "root.geometry(\"700x500+150+180\")\n",
        "root.resizable(False, False)\n",
        "root.configure(bg=\"#d1b3ff\")\n",
        "\n",
        "filename = \"\"\n",
        "img = None\n",
        "h, w, channels = 0, 0, 0\n",
        "image_path = \"\"\n",
        "password = \"\"\n",
        "hashed_password = b''\n",
        "msg = \"\"\n",
        "encrypted_image_path = \"\"\n"
      ],
      "metadata": {
        "id": "xwy4s9awztvg"
      },
      "execution_count": null,
      "outputs": []
    },
    {
      "cell_type": "markdown",
      "source": [
        "# **Helper Functions**\n",
        "*showimage()*\n",
        "\n",
        "This function allows the user to select an image file and displays it in the GUI."
      ],
      "metadata": {
        "id": "BSaKVISL0CVt"
      }
    },
    {
      "cell_type": "code",
      "source": [
        "def showimage():\n",
        "    global filename, img, h, w, channels, image_path\n",
        "    filename = filedialog.askopenfilename(initialdir=os.getcwd(),\n",
        "                                          title='Select Image File',\n",
        "                                          filetype=((\"PNG file\", \"*.png\"),\n",
        "                                                    (\"JPG File\", \"*.jpg\"), (\"All file\", \"*.txt\")))\n",
        "    img = Image.open(filename)\n",
        "    img = ImageTk.PhotoImage(img)\n",
        "    lbl.configure(image=img, width=250, height=250)\n",
        "    lbl.image = img\n",
        "    img = cv2.imread(filename)\n",
        "    h, w, channels = img.shape\n",
        "    image_path = filename\n"
      ],
      "metadata": {
        "id": "9VdOSkmX0CA1"
      },
      "execution_count": null,
      "outputs": []
    },
    {
      "cell_type": "markdown",
      "source": [
        "*get_password()*\n",
        "\n",
        "This function retrieves the user-entered password and hashes it using SHA-256."
      ],
      "metadata": {
        "id": "NJluJeDL0Zp8"
      }
    },
    {
      "cell_type": "code",
      "source": [
        "def get_password():\n",
        "    global password, hashed_password\n",
        "    password = password_entry.get()\n",
        "    print(\"Entered password:\", password)\n",
        "    hash_object = hashlib.sha256(password.encode())\n",
        "    hashed_password = hash_object.digest()\n"
      ],
      "metadata": {
        "id": "e1Bwy1XS0i9S"
      },
      "execution_count": null,
      "outputs": []
    },
    {
      "cell_type": "markdown",
      "source": [
        "*get_message()*\n",
        "\n",
        "This function retrieves the secret message entered by the user."
      ],
      "metadata": {
        "id": "r3hmpApu0mJy"
      }
    },
    {
      "cell_type": "code",
      "source": [
        "def get_message():\n",
        "    global msg\n",
        "    msg = message_entry.get()\n",
        "    print(\"Entered secret message:\", msg)\n"
      ],
      "metadata": {
        "id": "QJMHeNSN0r2T"
      },
      "execution_count": null,
      "outputs": []
    },
    {
      "cell_type": "markdown",
      "source": [
        "# **Encoding and Decoding Functions**\n",
        "*encode()*\n",
        "\n",
        "This function encodes the secret message into the image using the least significant bit (LSB) steganography technique."
      ],
      "metadata": {
        "id": "bXK-_oH50uR7"
      }
    },
    {
      "cell_type": "code",
      "source": [
        "def encode():\n",
        "    global img, msg, hashed_password\n",
        "    msg += '\\x00'\n",
        "    msg = [ord(char) for char in msg]\n",
        "\n",
        "    msg_index = 0\n",
        "    for i in range(h):\n",
        "        for j in range(w):\n",
        "            if msg_index < len(msg):\n",
        "                char = msg[msg_index]\n",
        "                for k in range(3):\n",
        "                    img[i, j, k] = (img[i, j, k] & 0xFE) | ((char >> (7 - k)) & 1)\n",
        "                msg_index += 1\n",
        "            else:\n",
        "                break\n",
        "    return img\n"
      ],
      "metadata": {
        "id": "PI-K2BMz02vD"
      },
      "execution_count": null,
      "outputs": []
    },
    {
      "cell_type": "markdown",
      "source": [
        "*decode(encrypted_image_path, password)*\n",
        "\n",
        "This function decodes the hidden message from the image using the provided password."
      ],
      "metadata": {
        "id": "VuvU_z9W05y8"
      }
    },
    {
      "cell_type": "code",
      "source": [
        "def decode(encrypted_image_path, password):\n",
        "    img = cv2.imread(encrypted_image_path)\n",
        "    if img is None:\n",
        "        print(\"Image not found. Check the file path and make sure the image exists.\")\n",
        "        return \"\"\n",
        "\n",
        "    height, width, channels = img.shape\n",
        "\n",
        "    hash_object = hashlib.sha256(password.encode())\n",
        "    hashed_password = hash_object.digest()\n",
        "\n",
        "    decoded_msg = []\n",
        "    char_bits = 0\n",
        "    bits_count = 0\n",
        "\n",
        "    for i in range(height):\n",
        "        for j in range(width):\n",
        "            for k in range(3):\n",
        "                char_bits = (char_bits << 1) | (img[i, j, k] & 1)\n",
        "                bits_count += 1\n",
        "                if bits_count == 8:\n",
        "                    decoded_msg.append(char_bits)\n",
        "                    if char_bits == 0:\n",
        "                        return ''.join(chr(char) for char in decoded_msg[:-1])\n",
        "                    char_bits = 0\n",
        "                    bits_count = 0\n",
        "\n",
        "    return ''.join(chr(char) for char in decoded_msg)\n"
      ],
      "metadata": {
        "id": "g1JITAO40_tj"
      },
      "execution_count": null,
      "outputs": []
    },
    {
      "cell_type": "markdown",
      "source": [
        "# **Event Handlers**\n",
        "*Hide()*\n",
        "\n",
        "This function triggers the encoding process to hide the message in the image."
      ],
      "metadata": {
        "id": "cr4ij2TS1ThY"
      }
    },
    {
      "cell_type": "code",
      "source": [
        "def Hide():\n",
        "    global msg, img\n",
        "    get_message()\n",
        "    get_password()\n",
        "    encode()\n",
        "    print(\"Data hidden successfully!\")\n"
      ],
      "metadata": {
        "id": "5r0ddxV41fKM"
      },
      "execution_count": null,
      "outputs": []
    },
    {
      "cell_type": "markdown",
      "source": [
        "*Show()*\n",
        "\n",
        "This function triggers the decoding process to retrieve the hidden message from the image."
      ],
      "metadata": {
        "id": "0Qh-0iHm1he2"
      }
    },
    {
      "cell_type": "code",
      "source": [
        "def Show():\n",
        "    global password\n",
        "    get_password()\n",
        "    secret_message = decode(encrypted_image_path, password)\n",
        "    if secret_message:\n",
        "        text1.delete(1.0, END)\n",
        "        text1.insert(END, secret_message)\n",
        "    else:\n",
        "        text1.delete(1.0, END)\n",
        "        text1.insert(END, \"Incorrect password or no hidden message found.\")\n"
      ],
      "metadata": {
        "id": "2CJ01Vqq1oDj"
      },
      "execution_count": null,
      "outputs": []
    },
    {
      "cell_type": "markdown",
      "source": [
        "*save()*\n",
        "\n",
        "This function saves the image with the hidden message to the disk."
      ],
      "metadata": {
        "id": "uec5Qp0S1o9n"
      }
    },
    {
      "cell_type": "code",
      "source": [
        "def save():\n",
        "    global encrypted_image_path, img\n",
        "    encrypted_image_path = os.path.join(os.path.dirname(filename), \"encryptedImage.png\")\n",
        "    cv2.imwrite(encrypted_image_path, img)\n",
        "    print(f\"Image saved to {encrypted_image_path}\")\n"
      ],
      "metadata": {
        "id": "r5S7OelH1t7H"
      },
      "execution_count": null,
      "outputs": []
    },
    {
      "cell_type": "markdown",
      "source": [
        "# **Main GUI Setup**\n",
        "The following code sets up the GUI elements and layout."
      ],
      "metadata": {
        "id": "ggNTs07P1wwT"
      }
    },
    {
      "cell_type": "code",
      "source": [
        "image_icon = PhotoImage(file=\"icon.png\")\n",
        "root.iconphoto(False, image_icon)\n",
        "logo = PhotoImage(file=\"cyberlogo.png\")\n",
        "Label(root, image=logo, height=70, width=85, bg=\"#751aff\").place(x=15, y=1)\n",
        "Label(root, text=\"STEGANOGRAPHY\", bg=\"#d1b3ff\", fg=\"black\", font=\"papyrus 25 bold\").place(x=120, y=20)\n",
        "\n",
        "f = Frame(root, bd=3, bg=\"black\", width=340, height=280, relief=GROOVE)\n",
        "f.place(x=10, y=80)\n",
        "\n",
        "lbl = Label(f, bg=\"black\")\n",
        "lbl.place(x=40, y=10)\n",
        "\n",
        "frame7 = Frame(root, bd=3, width=320, height=280, bg=\"white\", relief=GROOVE)\n",
        "frame7.place(x=360, y=80)\n",
        "\n",
        "frame8 = Frame(root, bd=3, width=320, height=100, bg=\"white\", relief=GROOVE)\n",
        "frame8.place(x=360, y=80)\n",
        "\n",
        "Label(frame8, text=\"Hidden Text:\", fg=\"black\",bg=\"white\", font=\"papyrus 12 bold\").place(x=0, y=0)\n",
        "\n",
        "text1 = Text(frame8, font=\"palatino 20\", bg=\"white\", fg=\"black\", relief=GROOVE, wrap=WORD)\n",
        "text1.place(x=0, y=20, width=321, height=295)\n",
        "\n",
        "frame9 = Frame(root, bd=3, width=320, height=100, bg=\"white\", relief=GROOVE)\n",
        "frame9.place(x=360, y=170)\n",
        "\n",
        "Label(frame9, text=\"Secret\",bg=\"white\" ,fg=\"black\", font=\"papyrus 15 bold\").place(x=4, y=5)\n",
        "Label(frame9, text=\"Message:\", fg=\"black\",bg=\"white\", font=\"papyrus 15 bold\").place(x=4, y=40)\n",
        "\n",
        "frame2 = Frame(root, bd=3, width=250, height=150, bg=\"white\", relief=GROOVE)\n",
        "frame2.place(x=470, y=185)\n",
        "\n",
        "message_entry = tk.Entry(frame2)\n",
        "message_entry.pack()\n",
        "\n",
        "submit_button = tk.Button(frame2, text=\"SUBMIT\", font=\"palatino 10 bold\", command=get_message, width=27, height=2)\n",
        "submit_button.pack()\n",
        "\n",
        "scrollbar1 = Scrollbar(frame2)\n",
        "scrollbar1.place(x=320, y=0, height=150)\n",
        "\n",
        "scrollbar1.configure(command=text1.yview)\n",
        "text1.configure(yscrollcommand=scrollbar1.set)\n",
        "\n",
        "frame6 = Frame(root, bd=3, width=320, height=95, bg=\"white\", relief=GROOVE)\n",
        "frame6.place(x=360, y=266)\n",
        "\n",
        "Label(frame6, text=\"Password:\", fg=\"black\",bg=\"white\", font=\"papyrus 20 bold\").place(x=10, y=5)\n",
        "\n",
        "frame5 = Frame(root, bd=3, width=300, height=300, bg=\"white\", relief=GROOVE)\n",
        "frame5.place(x=520, y=280)\n",
        "\n",
        "password_entry = tk.Entry(frame5, show=\"*\")\n",
        "password_entry.pack()\n",
        "\n",
        "submit_button = tk.Button(frame5, text=\"SUBMIT\", font=\"palatino 10 bold\", command=get_password, width=20, height=2)\n",
        "submit_button.pack()\n",
        "\n",
        "frame3 = Frame(root, bd=3, bg=\"#d1b3ff\", width=330, height=100, relief=GROOVE)\n",
        "frame3.place(x=10, y=370)\n",
        "\n",
        "Button(frame3, text=\"Open Image\", width=10, height=1, font=\"papyrus\n"
      ],
      "metadata": {
        "id": "Sts_7M2F12UL"
      },
      "execution_count": null,
      "outputs": []
    }
  ]
}